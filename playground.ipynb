{
 "nbformat": 4,
 "nbformat_minor": 2,
 "metadata": {
  "language_info": {
   "name": "python",
   "codemirror_mode": {
    "name": "ipython",
    "version": 3
   },
   "version": "3.7.4"
  },
  "orig_nbformat": 2,
  "file_extension": ".py",
  "mimetype": "text/x-python",
  "name": "python",
  "npconvert_exporter": "python",
  "pygments_lexer": "ipython3",
  "version": 3
 },
 "cells": [
  {
   "cell_type": "code",
   "execution_count": 2,
   "metadata": {},
   "outputs": [],
   "source": [
    "import numpy as np\n",
    "import numba\n",
    "import time"
   ]
  },
  {
   "cell_type": "code",
   "execution_count": 23,
   "metadata": {},
   "outputs": [
    {
     "name": "stdout",
     "output_type": "stream",
     "text": "250031.01173711888\n2.504110336303711 [ms]\n250031.0117371189\n67.49606132507324 [ms]\n"
    }
   ],
   "source": [
    "a = np.random.rand(1000000)\n",
    "b = np.random.rand(1000000)\n",
    "\n",
    "def vec():\n",
    "    c = a @ b\n",
    "    toc = time.time()\n",
    "    print(c)\n",
    "\n",
    "@numba.jit()\n",
    "def nonvec():\n",
    "    c = 0\n",
    "    for i in range(1000000):\n",
    "        c += a[i] * b[i]\n",
    "    print(c) \n",
    "\n",
    "\n",
    "tic = time.time()\n",
    "vec()\n",
    "toc = time.time()\n",
    "print(f\"{1000 * (toc - tic)} [ms]\")\n",
    "\n",
    "\n",
    "tic = time.time()\n",
    "nonvec()\n",
    "toc = time.time()\n",
    "print(f\"{1000 * (toc - tic)} [ms]\")\n"
   ]
  },
  {
   "cell_type": "code",
   "execution_count": 33,
   "metadata": {},
   "outputs": [
    {
     "name": "stdout",
     "output_type": "stream",
     "text": "[[ 56.    0.    4.4  68. ]\n [  1.2 104.   52.    8. ]\n [  1.8 135.   99.    0.9]]\n[ 59.  239.  155.4  76.9]\n[[94.91525424  0.          2.83140283 88.42652796]\n [ 2.03389831 43.51464435 33.46203346 10.40312094]\n [ 3.05084746 56.48535565 63.70656371  1.17035111]]\n[[94.91525424  0.          2.83140283 88.42652796]\n [ 2.03389831 43.51464435 33.46203346 10.40312094]\n [ 3.05084746 56.48535565 63.70656371  1.17035111]]\n"
    }
   ],
   "source": [
    "\n",
    "A = np.array([\n",
    "    [56, 0, 4.4, 68],\n",
    "    [1.2, 104, 52, 8],\n",
    "    [1.8, 135, 99, 0.9]\n",
    "])\n",
    "print(A)\n",
    "\n",
    "cal = A.sum(axis=0)\n",
    "print(cal)\n",
    "\n",
    "percentage = A / cal.reshape(1, 4) * 100\n",
    "print(percentage)\n",
    "\n",
    "hoge = A /cal * 100\n",
    "print(hoge)\n"
   ]
  },
  {
   "cell_type": "code",
   "execution_count": 36,
   "metadata": {},
   "outputs": [],
   "source": [
    "a = np.random.randn(5, 1)\n",
    "assert(a.shape == (5,1) )\n"
   ]
  },
  {
   "cell_type": "code",
   "execution_count": null,
   "metadata": {},
   "outputs": [],
   "source": []
  }
 ]
}